{
 "cells": [
  {
   "cell_type": "code",
   "execution_count": 1,
   "metadata": {},
   "outputs": [],
   "source": [
    "from pydrive2.drive import GoogleDrive, GoogleDriveFile\n",
    "from pydrive2.auth import GoogleAuth\n",
    "from neo4j import GraphDatabase\n",
    "from dotenv import load_dotenv\n",
    "from os import getenv"
   ]
  },
  {
   "cell_type": "code",
   "execution_count": 2,
   "metadata": {},
   "outputs": [
    {
     "data": {
      "text/plain": [
       "True"
      ]
     },
     "execution_count": 2,
     "metadata": {},
     "output_type": "execute_result"
    }
   ],
   "source": [
    "load_dotenv()"
   ]
  },
  {
   "cell_type": "code",
   "execution_count": 12,
   "metadata": {},
   "outputs": [],
   "source": [
    "NEO4J_URI = getenv(\"NEO4J_URI\")\n",
    "NEO4J_AUTH = (getenv(\"NEO4J_USER\", \"neo4j\"), getenv(\"NEO4J_PASSWORD\"))\n",
    "NEO4J_DATABASE = getenv(\"NEO4J_DATABASE\", \"neo4j\")\n",
    "\n",
    "DATA_LAKE_FOLDER = getenv(\"DATA_LAKE_FOLDER\", \"HR Analytics Data Lake\")\n",
    "\n",
    "MIME_TYPES = {\n",
    "    \"csv\": \"text/csv\",\n",
    "    \"folder\": \"application/vnd.google-apps.folder\",\n",
    "}"
   ]
  },
  {
   "cell_type": "code",
   "execution_count": 7,
   "metadata": {},
   "outputs": [
    {
     "name": "stdout",
     "output_type": "stream",
     "text": [
      "Your browser has been opened to visit:\n",
      "\n",
      "    https://accounts.google.com/o/oauth2/auth?client_id=604337038875-rg09a40fl0dmtedfrsi9dac70l4epmt6.apps.googleusercontent.com&redirect_uri=http%3A%2F%2Flocalhost%3A8080%2F&scope=https%3A%2F%2Fwww.googleapis.com%2Fauth%2Fdrive&access_type=online&response_type=code\n",
      "\n",
      "Authentication successful.\n"
     ]
    }
   ],
   "source": [
    "gauth_settings = {\"client_config_file\": \"../secrets/client_secrets.json\"}\n",
    "\n",
    "gauth = GoogleAuth(settings=gauth_settings)\n",
    "\n",
    "gauth.LocalWebserverAuth()\n",
    "\n",
    "drive = GoogleDrive(gauth)"
   ]
  },
  {
   "cell_type": "code",
   "execution_count": 8,
   "metadata": {},
   "outputs": [
    {
     "data": {
      "text/plain": [
       "'1F7ve6K5mk6T_FQv3BqQk6pEiV3ebu7tE'"
      ]
     },
     "execution_count": 8,
     "metadata": {},
     "output_type": "execute_result"
    }
   ],
   "source": [
    "folder = drive.ListFile(\n",
    "    {\n",
    "        \"q\": f\"title='{DATA_LAKE_FOLDER}' and mimeType='{MIME_TYPES['folder']}' and trashed=false\",\n",
    "        \"spaces\": \"drive\",\n",
    "    }\n",
    ").GetList()[0]\n",
    "\n",
    "folder_id = folder[\"id\"]\n",
    "\n",
    "folder_id"
   ]
  },
  {
   "cell_type": "code",
   "execution_count": 9,
   "metadata": {},
   "outputs": [],
   "source": [
    "def overwrite_csv(name) -> GoogleDriveFile:\n",
    "    file_list = drive.ListFile({\"q\": f\"title='{name}.csv' and trashed=false\"}).GetList()\n",
    "\n",
    "    for file in file_list:\n",
    "        file.Delete()\n",
    "\n",
    "    file = drive.CreateFile(\n",
    "        {\n",
    "            \"title\": f\"{name}.csv\",\n",
    "            \"parents\": [{\"kind\": \"drive#fileLink\", \"id\": folder_id}],\n",
    "            \"mime_type\": MIME_TYPES[\"csv\"],\n",
    "        }\n",
    "    )\n",
    "    file.SetContentFile(f\"{name}.csv\")\n",
    "    file.Upload()\n",
    "\n",
    "    return file"
   ]
  },
  {
   "cell_type": "code",
   "execution_count": 11,
   "metadata": {},
   "outputs": [],
   "source": [
    "departments_link = overwrite_csv(\"../seed/departments\")[\"webContentLink\"]\n",
    "staffs_link = overwrite_csv(\"../seed/staffs\")[\"webContentLink\"]\n",
    "sessions_link = overwrite_csv(\"../dist/sessions\")[\"webContentLink\"]\n",
    "skills_link = overwrite_csv(\"../dist/skills\")[\"webContentLink\"]\n",
    "fields_link = overwrite_csv(\"../dist/fields\")[\"webContentLink\"]\n",
    "fact_training_link = overwrite_csv(\"../dist/fact_training\")[\"webContentLink\"]"
   ]
  },
  {
   "cell_type": "code",
   "execution_count": null,
   "metadata": {},
   "outputs": [],
   "source": [
    "delete_relationship_query = \"\"\"\n",
    "MATCH ()-[r]-() DELETE r;\n",
    "\"\"\"\n",
    "\n",
    "delete_node_query = \"\"\"\n",
    "MATCH (n) DELETE n;\n",
    "\"\"\""
   ]
  },
  {
   "cell_type": "markdown",
   "metadata": {},
   "source": [
    "# CONSTRAINT creation\n",
    "-------------------\n",
    "\n",
    "Create node uniqueness constraints, ensuring no duplicates for the given node label and ID property exist in the database. This also ensures no duplicates are introduced in future.\n",
    "\n",
    "NOTE: The following constraint creation syntax is generated based on the current connected database version 5.15-aura."
   ]
  },
  {
   "cell_type": "code",
   "execution_count": null,
   "metadata": {},
   "outputs": [],
   "source": [
    "create_staff_constraint_query = \"\"\"\n",
    "CREATE CONSTRAINT `imp_uniq_Staff_id` IF NOT EXISTS\n",
    "FOR (n: `Staff`)\n",
    "REQUIRE (n.`id`) IS UNIQUE;\n",
    "\"\"\""
   ]
  },
  {
   "cell_type": "code",
   "execution_count": null,
   "metadata": {},
   "outputs": [],
   "source": [
    "create_session_constraint_query = \"\"\"\n",
    "CREATE CONSTRAINT `imp_uniq_Session_id` IF NOT EXISTS\n",
    "FOR (n: `Session`)\n",
    "REQUIRE (n.`id`) IS UNIQUE;\n",
    "\"\"\""
   ]
  },
  {
   "cell_type": "code",
   "execution_count": null,
   "metadata": {},
   "outputs": [],
   "source": [
    "create_skill_constraint_query = \"\"\"\n",
    "CREATE CONSTRAINT `imp_uniq_Skill_id` IF NOT EXISTS\n",
    "FOR (n: `Skill`)\n",
    "REQUIRE (n.`id`) IS UNIQUE;\n",
    "\"\"\""
   ]
  },
  {
   "cell_type": "code",
   "execution_count": null,
   "metadata": {},
   "outputs": [],
   "source": [
    "create_field_constraint_query = \"\"\"\n",
    "CREATE CONSTRAINT `imp_uniq_Field_id` IF NOT EXISTS\n",
    "FOR (n: `Field`)\n",
    "REQUIRE (n.`id`) IS UNIQUE;\n",
    "\"\"\""
   ]
  },
  {
   "cell_type": "code",
   "execution_count": null,
   "metadata": {},
   "outputs": [],
   "source": [
    "create_department_constraint_query = \"\"\"\n",
    "CREATE CONSTRAINT `imp_uniq_Department_id` IF NOT EXISTS\n",
    "FOR (n: `Department`)\n",
    "REQUIRE (n.`id`) IS UNIQUE;\n",
    "\"\"\""
   ]
  },
  {
   "cell_type": "markdown",
   "metadata": {},
   "source": [
    "# NODE load\n",
    "---------\n",
    "\n",
    "Load nodes in batches, one node label at a time. Nodes will be created using a MERGE statement to ensure a node with the same label and ID property remains unique. Pre-existing nodes found by a MERGE statement will have their other properties set to the latest values encountered in a load file.\n",
    "\n",
    "NOTE: Any nodes with IDs in the 'idsToSkip' list parameter will not be loaded."
   ]
  },
  {
   "cell_type": "code",
   "execution_count": null,
   "metadata": {},
   "outputs": [],
   "source": [
    "load_staff_nodes_query = \"\"\"\n",
    "LOAD CSV WITH HEADERS FROM ($file_1) AS row\n",
    "WITH row\n",
    "WHERE NOT row.`id` IN $idsToSkip AND NOT toInteger(trim(row.`id`)) IS NULL\n",
    "CALL {\n",
    "  WITH row\n",
    "  MERGE (n: `Staff` { `id`: toInteger(trim(row.`id`)) })\n",
    "  SET n.`id` = toInteger(trim(row.`id`))\n",
    "  SET n.`name` = row.`name`\n",
    "  SET n.`years_of_service` = toInteger(trim(row.`years_of_service`))\n",
    "} IN TRANSACTIONS OF 10000 ROWS;\n",
    "\"\"\""
   ]
  },
  {
   "cell_type": "code",
   "execution_count": null,
   "metadata": {},
   "outputs": [],
   "source": [
    "load_skill_nodes_query = \"\"\"\n",
    "LOAD CSV WITH HEADERS FROM ($file_3) AS row\n",
    "WITH row\n",
    "WHERE NOT row.`id` IN $idsToSkip AND NOT toInteger(trim(row.`id`)) IS NULL\n",
    "CALL {\n",
    "  WITH row\n",
    "  MERGE (n: `Skill` { `id`: toInteger(trim(row.`id`)) })\n",
    "  SET n.`id` = toInteger(trim(row.`id`))\n",
    "  SET n.`name` = row.`name`\n",
    "} IN TRANSACTIONS OF 10000 ROWS;\n",
    "\"\"\""
   ]
  },
  {
   "cell_type": "code",
   "execution_count": null,
   "metadata": {},
   "outputs": [],
   "source": [
    "load_field_nodes_query = \"\"\"\n",
    "LOAD CSV WITH HEADERS FROM ($file_4) AS row\n",
    "WITH row\n",
    "WHERE NOT row.`id` IN $idsToSkip AND NOT toInteger(trim(row.`id`)) IS NULL\n",
    "CALL {\n",
    "  WITH row\n",
    "  MERGE (n: `Field` { `id`: toInteger(trim(row.`id`)) })\n",
    "  SET n.`id` = toInteger(trim(row.`id`))\n",
    "  SET n.`name` = row.`name`\n",
    "} IN TRANSACTIONS OF 10000 ROWS;\n",
    "\"\"\""
   ]
  },
  {
   "cell_type": "code",
   "execution_count": null,
   "metadata": {},
   "outputs": [],
   "source": [
    "load_department_nodes_query = \"\"\"\n",
    "LOAD CSV WITH HEADERS FROM ($file_0) AS row\n",
    "WITH row\n",
    "WHERE NOT row.`id` IN $idsToSkip AND NOT toInteger(trim(row.`id`)) IS NULL\n",
    "CALL {\n",
    "  WITH row\n",
    "  MERGE (n: `Department` { `id`: toInteger(trim(row.`id`)) })\n",
    "  SET n.`id` = toInteger(trim(row.`id`))\n",
    "  SET n.`name` = row.`name`\n",
    "  SET n.`courses` = toInteger(trim(row.`number_of_courses`))\n",
    "  SET n.`students` = toInteger(trim(row.`number_of_students`))\n",
    "} IN TRANSACTIONS OF 10000 ROWS;\n",
    "\"\"\""
   ]
  },
  {
   "cell_type": "markdown",
   "metadata": {},
   "source": [
    "\n",
    "Your script contains the datetime datatype. Our app attempts to convert dates to ISO 8601 date format before passing them to the Cypher function.\n",
    "This conversion cannot be done in a Cypher script load. Please ensure that your CSV file columns are in ISO 8601 date format to ensure equivalent loads."
   ]
  },
  {
   "cell_type": "code",
   "execution_count": null,
   "metadata": {},
   "outputs": [],
   "source": [
    "load_session_nodes_query = \"\"\"\n",
    "LOAD CSV WITH HEADERS FROM ($file_2) AS row\n",
    "WITH row\n",
    "WHERE NOT row.`id` IN $idsToSkip AND NOT toInteger(trim(row.`id`)) IS NULL\n",
    "CALL {\n",
    "  WITH row\n",
    "  MERGE (n: `Session` { `id`: toInteger(trim(row.`id`)) })\n",
    "  SET n.`id` = toInteger(trim(row.`id`))\n",
    "  SET n.`type` = row.`type`\n",
    "  SET n.`name` = row.`name`\n",
    "  SET n.`year` = datetime(row.`year`)\n",
    "  SET n.`medium` = row.`medium`\n",
    "  SET n.`duration_days` = row.`duration_days`\n",
    "  SET n.`duration_hours` = toInteger(trim(row.`duration_hours`))\n",
    "} IN TRANSACTIONS OF 10000 ROWS;\n",
    "\"\"\""
   ]
  },
  {
   "cell_type": "markdown",
   "metadata": {},
   "source": [
    "# RELATIONSHIP load\n",
    "-----------------\n",
    "\n",
    "Load relationships in batches, one relationship type at a time. Relationships are created using a MERGE statement, meaning only one relationship of a given type will ever be created between a pair of nodes."
   ]
  },
  {
   "cell_type": "code",
   "execution_count": null,
   "metadata": {},
   "outputs": [],
   "source": [
    "load_belongs_to_relationships_query = \"\"\"\n",
    "LOAD CSV WITH HEADERS FROM ($file_1) AS row\n",
    "WITH row \n",
    "CALL {\n",
    "  WITH row\n",
    "  MATCH (source: `Staff` { `id`: toInteger(trim(row.`id`)) })\n",
    "  MATCH (target: `Department` { `id`: toInteger(trim(row.`department_id`)) })\n",
    "  MERGE (source)-[r: `BELONGS_TO`]->(target)\n",
    "  SET r.`years_in_department` = toInteger(trim(row.`years_in_current_department`))\n",
    "} IN TRANSACTIONS OF 10000 ROWS;\n",
    "\"\"\""
   ]
  },
  {
   "cell_type": "code",
   "execution_count": null,
   "metadata": {},
   "outputs": [],
   "source": [
    "load_trains_relationships_query = \"\"\"\n",
    "LOAD CSV WITH HEADERS FROM ($file_2) AS row\n",
    "WITH row\n",
    "CALL {\n",
    "  WITH row\n",
    "  MATCH (source: `Session` { `id`: toInteger(trim(row.`id`)) })\n",
    "  MATCH (target: `Skill` { `id`: toInteger(trim(row.`skill_id`)) })\n",
    "  MERGE (source)-[r: `TRAINS`]->(target)\n",
    "} IN TRANSACTIONS OF 10000 ROWS;\n",
    "\"\"\""
   ]
  },
  {
   "cell_type": "code",
   "execution_count": null,
   "metadata": {},
   "outputs": [],
   "source": [
    "load_skill_of_relationships_query = \"\"\"\n",
    "LOAD CSV WITH HEADERS FROM ($file_3) AS row\n",
    "WITH row\n",
    "CALL {\n",
    "  WITH row\n",
    "  MATCH (source: `Skill` { `id`: toInteger(trim(row.`id`)) })\n",
    "  MATCH (target: `Field` { `id`: toInteger(trim(row.`field_id`)) })\n",
    "  MERGE (source)-[r: `SKILL_OF`]->(target)\n",
    "} IN TRANSACTIONS OF 10000 ROWS;\n",
    "\"\"\""
   ]
  },
  {
   "cell_type": "code",
   "execution_count": null,
   "metadata": {},
   "outputs": [],
   "source": [
    "load_attended_relationships_query = \"\"\"\n",
    "LOAD CSV WITH HEADERS FROM ($file_5) AS row\n",
    "WITH row \n",
    "CALL {\n",
    "  WITH row\n",
    "  MATCH (source: `Staff` { `id`: toInteger(trim(row.`staff_id`)) })\n",
    "  MATCH (target: `Session` { `id`: toInteger(trim(row.`session_id`)) })\n",
    "  MERGE (source)-[r: `ATTENDS`]->(target)\n",
    "  SET r.`attended_hours` = toInteger(trim(row.`attended_hours`))\n",
    "} IN TRANSACTIONS OF 10000 ROWS;\n",
    "\"\"\""
   ]
  },
  {
   "cell_type": "code",
   "execution_count": null,
   "metadata": {},
   "outputs": [],
   "source": [
    "load_has_head_of_relationship_query = \"\"\"\n",
    "LOAD CSV WITH HEADERS FROM ($file_0) AS row\n",
    "WITH row \n",
    "CALL {\n",
    "  WITH row\n",
    "  MATCH (source: `Department` { `id`: toInteger(trim(row.`id`)) })\n",
    "  MATCH (target: `Staff` { `id`: toInteger(trim(row.`head_staff_id`)) })\n",
    "  MERGE (source)-[r: `HAS_HEAD_OF`]->(target)\n",
    "} IN TRANSACTIONS OF 10000 ROWS;\n",
    "\"\"\""
   ]
  },
  {
   "cell_type": "markdown",
   "metadata": {},
   "source": [
    "# Relationship creation\n",
    "---------------------\n",
    "Create direct relationships in the database. The nodes already have indirect relationships through the loaded relationships. To ease visualization and querying, direct relationships are created."
   ]
  },
  {
   "cell_type": "code",
   "execution_count": null,
   "metadata": {},
   "outputs": [],
   "source": [
    "link_staffs_skills_relationship_query = \"\"\"\n",
    "MATCH (s:Staff)-[:ATTENDS]->(:Session)-[:TRAINS]->(sk:Skill)\n",
    "WITH s, sk, count(*) AS count\n",
    "CREATE (s)-[:HAS_SKILL {count: count}]->(sk)\n",
    "\"\"\""
   ]
  },
  {
   "cell_type": "code",
   "execution_count": null,
   "metadata": {},
   "outputs": [],
   "source": [
    "link_staffs_fields_relationship_query = \"\"\"\n",
    "MATCH (s:Staff)-[HS:HAS_SKILL]->(:Skill)-[:SKILL_OF]->(f:Field)\n",
    "WITH s, f, sum(HS.count) AS count\n",
    "CREATE (s)-[:IN_FIELD {count: count}]->(f)\n",
    "\"\"\""
   ]
  },
  {
   "cell_type": "markdown",
   "metadata": {},
   "source": [
    "\n",
    "Define the file path root and the individual file names required for loading.\n",
    "https://neo4j.com/docs/operations-manual/current/configuration/file-locations/"
   ]
  },
  {
   "cell_type": "code",
   "execution_count": null,
   "metadata": {},
   "outputs": [],
   "source": [
    "import_parameters = {\n",
    "    \"file_0\": departments_link,\n",
    "    \"file_1\": staffs_link,\n",
    "    \"file_2\": sessions_link,\n",
    "    \"file_3\": skills_link,\n",
    "    \"file_4\": fields_link,\n",
    "    \"file_5\": fact_training_link,\n",
    "    \"idsToSkip\": [],\n",
    "}"
   ]
  },
  {
   "cell_type": "code",
   "execution_count": null,
   "metadata": {},
   "outputs": [],
   "source": [
    "with GraphDatabase.driver(NEO4J_URI, auth=NEO4J_AUTH) as driver:\n",
    "    with driver.session(database=NEO4J_DATABASE) as session:\n",
    "        session.run(delete_relationship_query)\n",
    "        session.run(delete_node_query)\n",
    "\n",
    "        session.run(create_department_constraint_query, parameters=import_parameters)\n",
    "        session.run(create_staff_constraint_query, parameters=import_parameters)\n",
    "        session.run(create_session_constraint_query, parameters=import_parameters)\n",
    "        session.run(create_skill_constraint_query, parameters=import_parameters)\n",
    "        session.run(create_field_constraint_query, parameters=import_parameters)\n",
    "\n",
    "        session.run(load_department_nodes_query, parameters=import_parameters)\n",
    "        session.run(load_staff_nodes_query, parameters=import_parameters)\n",
    "        session.run(load_field_nodes_query, parameters=import_parameters)\n",
    "        session.run(load_skill_nodes_query, parameters=import_parameters)\n",
    "        session.run(load_session_nodes_query, parameters=import_parameters)\n",
    "\n",
    "        session.run(load_belongs_to_relationships_query, parameters=import_parameters)\n",
    "        session.run(load_has_head_of_relationship_query, parameters=import_parameters)\n",
    "        session.run(load_trains_relationships_query, parameters=import_parameters)\n",
    "        session.run(load_skill_of_relationships_query, parameters=import_parameters)\n",
    "        session.run(load_attended_relationships_query, parameters=import_parameters)\n",
    "\n",
    "        session.run(link_staffs_skills_relationship_query, parameters=import_parameters)\n",
    "        session.run(link_staffs_fields_relationship_query, parameters=import_parameters)"
   ]
  }
 ],
 "metadata": {
  "kernelspec": {
   "display_name": "ml",
   "language": "python",
   "name": "python3"
  },
  "language_info": {
   "codemirror_mode": {
    "name": "ipython",
    "version": 3
   },
   "file_extension": ".py",
   "mimetype": "text/x-python",
   "name": "python",
   "nbconvert_exporter": "python",
   "pygments_lexer": "ipython3",
   "version": "3.12.3"
  }
 },
 "nbformat": 4,
 "nbformat_minor": 2
}
